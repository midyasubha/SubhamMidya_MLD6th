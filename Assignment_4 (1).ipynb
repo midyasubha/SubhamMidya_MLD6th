{
 "cells": [
  {
   "cell_type": "code",
   "execution_count": 19,
   "metadata": {},
   "outputs": [
    {
     "name": "stdout",
     "output_type": "stream",
     "text": [
      "11.976539567003485\n"
     ]
    }
   ],
   "source": [
    "# Question 1.1\n",
    "class parent:\n",
    "    def __init__(self, a, b, c):\n",
    "        self.a = a\n",
    "        self.b = b\n",
    "        self.c = c\n",
    "    \n",
    "    \n",
    "class child(parent):\n",
    "    def __init__(self, a, b, c):\n",
    "        parent.__init__(self, a, b, c)        \n",
    "              \n",
    "    def area(self):\n",
    "        s = (self.a + self.b + self.c)/2\n",
    "        A = (s*(s-self.a)*(s-self.b)*(s-self.c)) ** 0.5\n",
    "        print(A)\n",
    "        \n",
    "\n",
    "tri = child(7,4,6)\n",
    "tri.area()"
   ]
  },
  {
   "cell_type": "code",
   "execution_count": 31,
   "metadata": {},
   "outputs": [
    {
     "name": "stdout",
     "output_type": "stream",
     "text": [
      "Tendulkar\n",
      "Ponting\n",
      "Sangakkara\n",
      "Jayawardene\n",
      "None\n"
     ]
    }
   ],
   "source": [
    "# Question 1.2\n",
    "\n",
    "l = [\"Tendulkar\", \"Ponting\", \"Kohli\", \"Sangakkara\", \"Kallis\", \"Amla\", \"Jayawardene\"]\n",
    "n = 7\n",
    "\n",
    "# a = list of string , b = integer\n",
    "def filter_long_words(a,b):\n",
    "    for i in a:\n",
    "        if len(i)>=b:\n",
    "            print(i)\n",
    "\n",
    "\n",
    "         \n",
    "\n",
    "print(filter_long_words(l,n))\n",
    "    \n",
    "    "
   ]
  },
  {
   "cell_type": "code",
   "execution_count": 37,
   "metadata": {},
   "outputs": [
    {
     "name": "stdout",
     "output_type": "stream",
     "text": [
      "[9, 7, 5, 10, 6, 4, 11, 5, 4, 5]\n",
      "None\n"
     ]
    }
   ],
   "source": [
    "# Question 2.1\n",
    "\n",
    "l = [\"Tendulkar\", \"Ponting\", \"Kohli\", \"Sangakkara\", \"Kallis\", \"Amla\", \"Jayawardene\", \"Kapil\", \"Kaif\", \"Dhoni\"]\n",
    "\n",
    "def len_map(a):\n",
    "    list1 = []\n",
    "    for i in a:\n",
    "        list1.append(len(i))\n",
    "        if len(list1)==len(a):\n",
    "            print(list1)\n",
    "        \n",
    "\n",
    "print(len_map(l))\n",
    "        \n",
    "        \n"
   ]
  },
  {
   "cell_type": "code",
   "execution_count": 76,
   "metadata": {},
   "outputs": [
    {
     "name": "stdout",
     "output_type": "stream",
     "text": [
      "True\n"
     ]
    }
   ],
   "source": [
    "# Question 2.2\n",
    "\n",
    "def vowel(a):\n",
    "    vow = [\"e\", \"a\", \"i\", \"o\", \"u\"]\n",
    "    x = 0\n",
    "    for i in vow:\n",
    "        x = x+1\n",
    "        if i == a:            \n",
    "            print(\"True\")\n",
    "            break\n",
    "        if x==5:\n",
    "            print(\"False\")\n",
    "        \n",
    "vowel(\"o\")\n",
    "                                                                                                                                                "
   ]
  }
 ],
 "metadata": {
  "kernelspec": {
   "display_name": "Python 3",
   "language": "python",
   "name": "python3"
  },
  "language_info": {
   "codemirror_mode": {
    "name": "ipython",
    "version": 3
   },
   "file_extension": ".py",
   "mimetype": "text/x-python",
   "name": "python",
   "nbconvert_exporter": "python",
   "pygments_lexer": "ipython3",
   "version": "3.7.6"
  }
 },
 "nbformat": 4,
 "nbformat_minor": 4
}
