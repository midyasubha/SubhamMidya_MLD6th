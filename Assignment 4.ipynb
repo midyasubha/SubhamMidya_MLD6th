{
 "cells": [
  {
   "cell_type": "code",
   "execution_count": 1,
   "metadata": {},
   "outputs": [],
   "source": [
    "# Question 1\n",
    "\n",
    "class Area:\n",
    "    \n",
    "\n",
    "def herons(s,a,b,c):\n",
    "    s = (a+b+c)/2\n",
    "    mul = s*(s-a)*(s-b)*(s-c)\n",
    "    A = mul**0.5\n",
    "    \n",
    "\n",
    "    "
   ]
  },
  {
   "cell_type": "code",
   "execution_count": 9,
   "metadata": {},
   "outputs": [
    {
     "name": "stdout",
     "output_type": "stream",
     "text": [
      "My name istom\n",
      "My name isred\n"
     ]
    }
   ],
   "source": [
    "class Robot:\n",
    "    def __init__(self, name, color, weight): # Constructor\n",
    "        self.name = name\n",
    "        self.color = color\n",
    "        self.weight = weight\n",
    "    \n",
    "    def i(self):\n",
    "        print(\"My name is\" + self.name)\n",
    "        print(\"My name is\" + self.color)\n",
    "        \n",
    "r1 = Robot(\"tom\", \"red\", 24) # Object of class Robot\n",
    "r2 = Robot(\"Jerry\", \"blue\", 57)\n",
    "\n",
    "r1.i()"
   ]
  },
  {
   "cell_type": "code",
   "execution_count": null,
   "metadata": {},
   "outputs": [],
   "source": []
  }
 ],
 "metadata": {
  "kernelspec": {
   "display_name": "Python 3",
   "language": "python",
   "name": "python3"
  },
  "language_info": {
   "codemirror_mode": {
    "name": "ipython",
    "version": 3
   },
   "file_extension": ".py",
   "mimetype": "text/x-python",
   "name": "python",
   "nbconvert_exporter": "python",
   "pygments_lexer": "ipython3",
   "version": "3.7.6"
  }
 },
 "nbformat": 4,
 "nbformat_minor": 4
}
