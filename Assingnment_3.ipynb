{
 "cells": [
  {
   "cell_type": "code",
   "execution_count": 36,
   "metadata": {},
   "outputs": [
    {
     "name": "stdout",
     "output_type": "stream",
     "text": [
      "55\n",
      "3628800\n"
     ]
    }
   ],
   "source": [
    "# Question 1.1\n",
    "\n",
    "# Sequence\n",
    "l = [1,2,3,4,5,6,7,8,9,10] \n",
    "\n",
    "# Function of Summation \n",
    "def summation(x,y):\n",
    "    return x+y\n",
    "    \n",
    "# Syntax for myreduce function   \n",
    "def myreduce(a,b):\n",
    "    # lenght of the list\n",
    "    p = len(b)\n",
    "    z = a(b[0],b[1])\n",
    "    # Applying the user function to all elements of user list\n",
    "    for i in range(2,p):\n",
    "        z = a(z,b[i]) \n",
    "    \n",
    "    return z\n",
    "\n",
    "print(myreduce(summation,l))\n",
    "print(myreduce(lambda a,b : a*b, l))"
   ]
  },
  {
   "cell_type": "code",
   "execution_count": 53,
   "metadata": {},
   "outputs": [
    {
     "name": "stdout",
     "output_type": "stream",
     "text": [
      "['a', 'e', 'i', 'o']\n",
      "[2, 4, 6, 8, 10, 12, 14, 16, 18, 20]\n"
     ]
    }
   ],
   "source": [
    "# Question 1.2\n",
    "\n",
    "# list of letters\n",
    "l1 = ['a', 'b', 'd', 'e', 'i', 'j', 'o', 'r', 'q', 'w', 's', 'z']\n",
    "\n",
    "def vow(x):\n",
    "    vowels = ['a', 'e', 'i', 'o', 'u']\n",
    "    for i in range(len(vowels)):\n",
    "        if x == vowels[i]:\n",
    "            return x\n",
    "        \n",
    "        \n",
    "l2 = list(range(21)) \n",
    "def even(n):\n",
    "    if n != 0:\n",
    "        if n%2==0:\n",
    "            return n\n",
    "    \n",
    "\n",
    "\n",
    "# Syntax for myfilter function   \n",
    "def myfilter(a,b):\n",
    "    p = len(b)\n",
    "    k = []\n",
    "    for i in range(p):\n",
    "        if a(b[i]) != None:\n",
    "             k.append(a(b[i]))         \n",
    "       \n",
    "    return k\n",
    "    \n",
    "print(myfilter(vow,l1))\n",
    "print(myfilter(even,l2))"
   ]
  },
  {
   "cell_type": "code",
   "execution_count": 125,
   "metadata": {},
   "outputs": [
    {
     "name": "stdout",
     "output_type": "stream",
     "text": [
      "['x', 'xx', 'xxx', 'xxxx', 'y', 'yy', 'yyy', 'yyyy', 'z', 'zz', 'zzz', 'zzzz']\n",
      "['x', 'y', 'z', 'xx', 'yy', 'zz', 'xxx', 'yyy', 'zzz', 'xxxx', 'yyyy', 'zzzz']\n",
      "[[2], [3], [4], [3], [4], [5], [4], [5], [6]]\n",
      "[[2, 3, 4, 5], [3, 4, 5, 6], [4, 5, 6, 7], [5, 6, 7, 8]]\n",
      "[(1, 1), (2, 1), (3, 1), (1, 2), (2, 2), (3, 2), (1, 3), (2, 3), (3, 3)]\n"
     ]
    }
   ],
   "source": [
    "# Question 2\n",
    "l = ['x', 'y', 'z']\n",
    "\n",
    "a = [l[j]*i for j in range(3) for i in range(1,5)]\n",
    "print(a)\n",
    "\n",
    "b = [l[j]*i for i in range(1,5) for j in range(3)]\n",
    "print(b)\n",
    "\n",
    "c = [[i] for j in range(1,4) for i in range(j+1,4+j)]\n",
    "print(c)\n",
    "\n",
    "d = [ [j for j in range(i+1,i+5)] for i in range(1,5)]\n",
    "print(d)\n",
    "\n",
    "e = [(i,j) for j in [1, 2, 3] for i in [1, 2, 3]]\n",
    "print(e)"
   ]
  },
  {
   "cell_type": "code",
   "execution_count": null,
   "metadata": {},
   "outputs": [],
   "source": []
  }
 ],
 "metadata": {
  "kernelspec": {
   "display_name": "Python 3",
   "language": "python",
   "name": "python3"
  },
  "language_info": {
   "codemirror_mode": {
    "name": "ipython",
    "version": 3
   },
   "file_extension": ".py",
   "mimetype": "text/x-python",
   "name": "python",
   "nbconvert_exporter": "python",
   "pygments_lexer": "ipython3",
   "version": "3.7.6"
  }
 },
 "nbformat": 4,
 "nbformat_minor": 4
}
